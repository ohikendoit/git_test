{
  "nbformat": 4,
  "nbformat_minor": 0,
  "metadata": {
    "colab": {
      "provenance": [],
      "authorship_tag": "ABX9TyOs8Hh2EgytxPHXbobkclGi",
      "include_colab_link": true
    },
    "kernelspec": {
      "name": "python3",
      "display_name": "Python 3"
    },
    "language_info": {
      "name": "python"
    }
  },
  "cells": [
    {
      "cell_type": "markdown",
      "metadata": {
        "id": "view-in-github",
        "colab_type": "text"
      },
      "source": [
        "<a href=\"https://colab.research.google.com/github/ohikendoit/git_test/blob/main/Untitled2.ipynb\" target=\"_parent\"><img src=\"https://colab.research.google.com/assets/colab-badge.svg\" alt=\"Open In Colab\"/></a>"
      ]
    },
    {
      "cell_type": "code",
      "execution_count": null,
      "metadata": {
        "colab": {
          "base_uri": "https://localhost:8080/",
          "height": 35
        },
        "id": "PHFx0lFx70to",
        "outputId": "3e8a4092-ef4f-4df2-b461-5951032e711d"
      },
      "outputs": [
        {
          "output_type": "execute_result",
          "data": {
            "text/plain": [
              "'even'"
            ],
            "application/vnd.google.colaboratory.intrinsic+json": {
              "type": "string"
            }
          },
          "metadata": {},
          "execution_count": 8
        }
      ],
      "source": [
        "def solution(num):\n",
        "  if num % 2 == 1:\n",
        "    return(\"odd\")\n",
        "  else:\n",
        "    return(\"even\")\n",
        "\n",
        "solution(2)\n",
        "\n",
        "#new_add"
      ]
    },
    {
      "cell_type": "code",
      "source": [
        "def solution2(num)"
      ],
      "metadata": {
        "id": "f2XhiUNXIKbE"
      },
      "execution_count": null,
      "outputs": []
    }
  ]
}